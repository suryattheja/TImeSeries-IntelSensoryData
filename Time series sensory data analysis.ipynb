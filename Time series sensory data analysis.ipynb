{
 "cells": [
  {
   "cell_type": "markdown",
   "metadata": {},
   "source": [
    "While the data itself is clarly understandable, what kind of analysis can be done on it I think really depends on what questions we are answering. However, I think the following analyses are feasible:\n",
    "- Studying correlation between sensors to determine what environment they are set up in, or spacial correlation in general\n",
    "           - Eg: If two sensors have ~1 correlation, it could mean that they both are setup in natural environments(outdoors) or both in the same controlled environment. \n",
    "           - poor correlation would mean the opposite.\n",
    "- Using correlated sensors to populate missing data\n",
    "- Detecting anamolies in the sensor readings and diagnosing the cause of sensor malfunction\n",
    "\n",
    "        "
   ]
  },
  {
   "cell_type": "markdown",
   "metadata": {},
   "source": [
    "<b>In this notebook, I have focussed on populating missing values using K nearest neighbors. \n",
    "Some of the challenges were: \n",
    "    - Handling nan values. Python packages dont provide much support for handling nan s and I had to write much of the code, including KNN.\n",
    "    - The formatting only added to the difficulty. Normalizing datetime required me to convert datetime to a numeric value. Pandas documentation is not very neatly organized. \n",
    "    "
   ]
  },
  {
   "cell_type": "code",
   "execution_count": 392,
   "metadata": {
    "collapsed": true
   },
   "outputs": [],
   "source": [
    "import pandas as pd\n",
    "import matplotlib.pyplot as plt\n",
    "from sklearn.preprocessing import MinMaxScaler\n",
    "from  scipy.spatial import distance as dist"
   ]
  },
  {
   "cell_type": "markdown",
   "metadata": {},
   "source": [
    "Reading the csv as a pandas dataframe"
   ]
  },
  {
   "cell_type": "code",
   "execution_count": 3,
   "metadata": {
    "collapsed": true
   },
   "outputs": [],
   "source": [
    "dataDf=pd.read_csv('data.txt',delimiter=' ',header=None)"
   ]
  },
  {
   "cell_type": "code",
   "execution_count": 4,
   "metadata": {
    "collapsed": true
   },
   "outputs": [],
   "source": [
    "dataDf.columns=['date:yyyy-mm-dd','time:hh:mm:ss.xxx','epoch','moteid','temperature','humidity','light','voltage']"
   ]
  },
  {
   "cell_type": "code",
   "execution_count": 5,
   "metadata": {},
   "outputs": [
    {
     "data": {
      "text/html": [
       "<div>\n",
       "<style>\n",
       "    .dataframe thead tr:only-child th {\n",
       "        text-align: right;\n",
       "    }\n",
       "\n",
       "    .dataframe thead th {\n",
       "        text-align: left;\n",
       "    }\n",
       "\n",
       "    .dataframe tbody tr th {\n",
       "        vertical-align: top;\n",
       "    }\n",
       "</style>\n",
       "<table border=\"1\" class=\"dataframe\">\n",
       "  <thead>\n",
       "    <tr style=\"text-align: right;\">\n",
       "      <th></th>\n",
       "      <th>date:yyyy-mm-dd</th>\n",
       "      <th>time:hh:mm:ss.xxx</th>\n",
       "      <th>epoch</th>\n",
       "      <th>moteid</th>\n",
       "      <th>temperature</th>\n",
       "      <th>humidity</th>\n",
       "      <th>light</th>\n",
       "      <th>voltage</th>\n",
       "    </tr>\n",
       "  </thead>\n",
       "  <tbody>\n",
       "    <tr>\n",
       "      <th>0</th>\n",
       "      <td>2004-03-31</td>\n",
       "      <td>03:38:15.757551</td>\n",
       "      <td>2</td>\n",
       "      <td>1.0</td>\n",
       "      <td>122.1530</td>\n",
       "      <td>-3.91901</td>\n",
       "      <td>11.04</td>\n",
       "      <td>2.03397</td>\n",
       "    </tr>\n",
       "    <tr>\n",
       "      <th>1</th>\n",
       "      <td>2004-02-28</td>\n",
       "      <td>00:59:16.02785</td>\n",
       "      <td>3</td>\n",
       "      <td>1.0</td>\n",
       "      <td>19.9884</td>\n",
       "      <td>37.09330</td>\n",
       "      <td>45.08</td>\n",
       "      <td>2.69964</td>\n",
       "    </tr>\n",
       "    <tr>\n",
       "      <th>2</th>\n",
       "      <td>2004-02-28</td>\n",
       "      <td>01:03:16.33393</td>\n",
       "      <td>11</td>\n",
       "      <td>1.0</td>\n",
       "      <td>19.3024</td>\n",
       "      <td>38.46290</td>\n",
       "      <td>45.08</td>\n",
       "      <td>2.68742</td>\n",
       "    </tr>\n",
       "    <tr>\n",
       "      <th>3</th>\n",
       "      <td>2004-02-28</td>\n",
       "      <td>01:06:16.013453</td>\n",
       "      <td>17</td>\n",
       "      <td>1.0</td>\n",
       "      <td>19.1652</td>\n",
       "      <td>38.80390</td>\n",
       "      <td>45.08</td>\n",
       "      <td>2.68742</td>\n",
       "    </tr>\n",
       "    <tr>\n",
       "      <th>4</th>\n",
       "      <td>2004-02-28</td>\n",
       "      <td>01:06:46.778088</td>\n",
       "      <td>18</td>\n",
       "      <td>1.0</td>\n",
       "      <td>19.1750</td>\n",
       "      <td>38.83790</td>\n",
       "      <td>45.08</td>\n",
       "      <td>2.69964</td>\n",
       "    </tr>\n",
       "  </tbody>\n",
       "</table>\n",
       "</div>"
      ],
      "text/plain": [
       "  date:yyyy-mm-dd time:hh:mm:ss.xxx  epoch  moteid  temperature  humidity  \\\n",
       "0      2004-03-31   03:38:15.757551      2     1.0     122.1530  -3.91901   \n",
       "1      2004-02-28    00:59:16.02785      3     1.0      19.9884  37.09330   \n",
       "2      2004-02-28    01:03:16.33393     11     1.0      19.3024  38.46290   \n",
       "3      2004-02-28   01:06:16.013453     17     1.0      19.1652  38.80390   \n",
       "4      2004-02-28   01:06:46.778088     18     1.0      19.1750  38.83790   \n",
       "\n",
       "   light  voltage  \n",
       "0  11.04  2.03397  \n",
       "1  45.08  2.69964  \n",
       "2  45.08  2.68742  \n",
       "3  45.08  2.68742  \n",
       "4  45.08  2.69964  "
      ]
     },
     "execution_count": 5,
     "metadata": {},
     "output_type": "execute_result"
    }
   ],
   "source": [
    "dataDf.head(5)"
   ]
  },
  {
   "cell_type": "markdown",
   "metadata": {},
   "source": [
    "Pandas allows us to take a quick glance at the count and density of each of its columns"
   ]
  },
  {
   "cell_type": "code",
   "execution_count": 41,
   "metadata": {},
   "outputs": [
    {
     "data": {
      "text/plain": [
       "date:yyyy-mm-dd      2313682\n",
       "time:hh:mm:ss.xxx    2313682\n",
       "epoch                2313682\n",
       "moteid               2313156\n",
       "temperature          2312781\n",
       "humidity             2312780\n",
       "light                2219804\n",
       "voltage              2313156\n",
       "dtype: int64"
      ]
     },
     "execution_count": 41,
     "metadata": {},
     "output_type": "execute_result"
    }
   ],
   "source": [
    "dataDf.count()"
   ]
  },
  {
   "cell_type": "markdown",
   "metadata": {},
   "source": [
    "As was mentioned in, there clearly are missing values. "
   ]
  },
  {
   "cell_type": "markdown",
   "metadata": {},
   "source": [
    " *******************************************************************************************"
   ]
  },
  {
   "cell_type": "markdown",
   "metadata": {},
   "source": [
    "<b>Lets see what the data holds. Lets extract the numbers for one mote and for one day and plot. Line graphs will be ideal, given that this is time series data.</b>"
   ]
  },
  {
   "cell_type": "markdown",
   "metadata": {},
   "source": [
    "<b>Checking if the data in data_day1mote1 is alright.</b>"
   ]
  },
  {
   "cell_type": "code",
   "execution_count": 9,
   "metadata": {},
   "outputs": [
    {
     "data": {
      "text/plain": [
       "date:yyyy-mm-dd      1317\n",
       "time:hh:mm:ss.xxx    1317\n",
       "epoch                1317\n",
       "moteid               1317\n",
       "temperature          1317\n",
       "humidity             1317\n",
       "light                1317\n",
       "voltage              1317\n",
       "dtype: int64"
      ]
     },
     "execution_count": 9,
     "metadata": {},
     "output_type": "execute_result"
    }
   ],
   "source": [
    "data_day1mote1.count()"
   ]
  },
  {
   "cell_type": "markdown",
   "metadata": {},
   "source": [
    "<b>All rows have values. The values may be incorrect or even null, in which case, the next steps will show</b>"
   ]
  },
  {
   "cell_type": "code",
   "execution_count": 10,
   "metadata": {
    "collapsed": true
   },
   "outputs": [],
   "source": [
    "tempDay1=list(data_day1mote1['temperature'])\n",
    "humidityDay1=list(data_day1mote1['humidity'])\n",
    "lightDay1=list(data_day1mote1['light'])\n",
    "voltageDay1=list(data_day1mote1['voltage'])\n",
    "hrDay1=[int(i.split(':')[0]) for i in list(data_day1mote1['time:hh:mm:ss.xxx'])]"
   ]
  },
  {
   "cell_type": "code",
   "execution_count": 11,
   "metadata": {},
   "outputs": [
    {
     "data": {
      "image/png": "[encoded data removed]",
      "text/plain": [
       "<Figure size 432x288 with 1 Axes>"
      ]
     },
     "metadata": {},
     "output_type": "display_data"
    },
    {
     "data": {
      "image/png": "[encoded data removed]",
      "text/plain": [
       "<Figure size 432x288 with 1 Axes>"
      ]
     },
     "metadata": {},
     "output_type": "display_data"
    },
    {
     "data": {
      "image/png": "[encoded data removed]",
      "text/plain": [
       "<Figure size 432x288 with 1 Axes>"
      ]
     },
     "metadata": {},
     "output_type": "display_data"
    },
    {
     "data": {
      "image/png": "[encoded data removed]",
      "text/plain": [
       "<Figure size 432x288 with 1 Axes>"
      ]
     },
     "metadata": {},
     "output_type": "display_data"
    }
   ],
   "source": [
    "plt.figure()\n",
    "plt.plot(tempDay1)\n",
    "plt.title('Temperature vs Epoch')\n",
    "plt.show()\n",
    "###\n",
    "plt.figure()\n",
    "plt.plot(voltageDay1)\n",
    "plt.title('voltage vs Epoch')\n",
    "plt.show()\n",
    "###\n",
    "plt.figure()\n",
    "plt.plot(lightDay1)\n",
    "plt.title('light vs Epoch')\n",
    "plt.show()\n",
    "###\n",
    "plt.figure()\n",
    "plt.plot(humidityDay1)\n",
    "plt.title('humidity vs Epoch')\n",
    "plt.show()"
   ]
  },
  {
   "cell_type": "markdown",
   "metadata": {},
   "source": [
    "<b>Temperature and humidity are clearly understandable. Temperature is least in the early morning, during which time humidity is the highest. Temperature reaches its highest in the noon, which is when humidity is at its min. It almost looks like temperature has a perfect negative correlation with humidity</b>"
   ]
  },
  {
   "cell_type": "code",
   "execution_count": 40,
   "metadata": {},
   "outputs": [
    {
     "name": "stdout",
     "output_type": "stream",
     "text": [
      "Examining correlatioins\n",
      "[[ 1.        -0.9522238]\n",
      " [-0.9522238  1.       ]]\n",
      "\n",
      "[[1.         0.71891054]\n",
      " [0.71891054 1.        ]]\n",
      "\n",
      "[[ 1.         -0.86978933]\n",
      " [-0.86978933  1.        ]]\n",
      "\n"
     ]
    }
   ],
   "source": [
    "import numpy as np\n",
    "\n",
    "print(\"Examining correlatioins\")\n",
    "print(np.corrcoef(tempDay1,humidityDay1))\n",
    "print(\"\")\n",
    "print(np.corrcoef(tempDay1,lightDay1))\n",
    "print(\"\")\n",
    "print(np.corrcoef(humidityDay1,lightDay1))\n",
    "print(\"\")"
   ]
  },
  {
   "cell_type": "markdown",
   "metadata": {},
   "source": [
    "<b>Voila! A correlation of -0.95 is strong and can be used to make strong assumptions. Indeed, this will have to be verified for other days. The best way would be to take random samples</b>"
   ]
  },
  {
   "cell_type": "markdown",
   "metadata": {},
   "source": [
    "<b>Examining voltage by zooming in</b>"
   ]
  },
  {
   "cell_type": "code",
   "execution_count": 14,
   "metadata": {},
   "outputs": [
    {
     "data": {
      "image/png": "[encoded data removed]",
      "text/plain": [
       "<Figure size 432x288 with 1 Axes>"
      ]
     },
     "metadata": {},
     "output_type": "display_data"
    }
   ],
   "source": [
    "plt.plot(voltageDay1[500:550])\n",
    "plt.title('Voltage zoomed in')\n",
    "plt.show()"
   ]
  },
  {
   "cell_type": "code",
   "execution_count": 16,
   "metadata": {},
   "outputs": [
    {
     "data": {
      "text/plain": [
       "True"
      ]
     },
     "execution_count": 16,
     "metadata": {},
     "output_type": "execute_result"
    }
   ],
   "source": [
    "dataDf.isnull().values.any()"
   ]
  },
  {
   "cell_type": "markdown",
   "metadata": {},
   "source": [
    "*********************************************************************************************"
   ]
  },
  {
   "cell_type": "markdown",
   "metadata": {},
   "source": [
    "**************************************************************************************************"
   ]
  },
  {
   "cell_type": "markdown",
   "metadata": {},
   "source": [
    "<h1>Fixing the missing values</h1>"
   ]
  },
  {
   "cell_type": "code",
   "execution_count": 178,
   "metadata": {},
   "outputs": [
    {
     "data": {
      "text/plain": [
       "date:yyyy-mm-dd      2303290\n",
       "time:hh:mm:ss.xxx    2303290\n",
       "epoch                2303290\n",
       "moteid               2303290\n",
       "temperature          2302918\n",
       "humidity             2302919\n",
       "light                2210085\n",
       "voltage              2303290\n",
       "x                    2303290\n",
       "y                    2303290\n",
       "dtype: int64"
      ]
     },
     "execution_count": 178,
     "metadata": {},
     "output_type": "execute_result"
    }
   ],
   "source": [
    "dataDf.count()"
   ]
  },
  {
   "cell_type": "markdown",
   "metadata": {},
   "source": [
    "I note that date, time have no missing values at all."
   ]
  },
  {
   "cell_type": "code",
   "execution_count": 42,
   "metadata": {
    "collapsed": true
   },
   "outputs": [],
   "source": [
    "nanDf=dataDf[pd.isnull(dataDf).any(axis=1)]"
   ]
  },
  {
   "cell_type": "code",
   "execution_count": 156,
   "metadata": {},
   "outputs": [
    {
     "data": {
      "text/plain": [
       "901"
      ]
     },
     "execution_count": 156,
     "metadata": {},
     "output_type": "execute_result"
    }
   ],
   "source": [
    "93879-92978"
   ]
  },
  {
   "cell_type": "code",
   "execution_count": 43,
   "metadata": {},
   "outputs": [
    {
     "data": {
      "text/plain": [
       "date:yyyy-mm-dd      93879\n",
       "time:hh:mm:ss.xxx    93879\n",
       "epoch                93879\n",
       "moteid               93353\n",
       "temperature          92978\n",
       "humidity             92977\n",
       "light                    1\n",
       "voltage              93353\n",
       "dtype: int64"
      ]
     },
     "execution_count": 43,
     "metadata": {},
     "output_type": "execute_result"
    }
   ],
   "source": [
    "nanDf.count()"
   ]
  },
  {
   "cell_type": "code",
   "execution_count": 47,
   "metadata": {
    "collapsed": true
   },
   "outputs": [],
   "source": [
    "#Updating the df to have x and  y coordinates for each mote.\n",
    "coordinDf=pd.read_csv('mote_locs.txt',header=None,delimiter=' ')\n",
    "coordinDf.columns=['moteid','x','y']"
   ]
  },
  {
   "cell_type": "code",
   "execution_count": 44,
   "metadata": {
    "scrolled": true
   },
   "outputs": [
    {
     "data": {
      "text/html": [
       "<div>\n",
       "<style>\n",
       "    .dataframe thead tr:only-child th {\n",
       "        text-align: right;\n",
       "    }\n",
       "\n",
       "    .dataframe thead th {\n",
       "        text-align: left;\n",
       "    }\n",
       "\n",
       "    .dataframe tbody tr th {\n",
       "        vertical-align: top;\n",
       "    }\n",
       "</style>\n",
       "<table border=\"1\" class=\"dataframe\">\n",
       "  <thead>\n",
       "    <tr style=\"text-align: right;\">\n",
       "      <th></th>\n",
       "      <th>date:yyyy-mm-dd</th>\n",
       "      <th>time:hh:mm:ss.xxx</th>\n",
       "      <th>epoch</th>\n",
       "      <th>moteid</th>\n",
       "      <th>temperature</th>\n",
       "      <th>humidity</th>\n",
       "      <th>light</th>\n",
       "      <th>voltage</th>\n",
       "    </tr>\n",
       "  </thead>\n",
       "  <tbody>\n",
       "    <tr>\n",
       "      <th>129122</th>\n",
       "      <td>2004-03-30</td>\n",
       "      <td>08:11:56.681052</td>\n",
       "      <td>53671</td>\n",
       "      <td>3.0</td>\n",
       "      <td>NaN</td>\n",
       "      <td>NaN</td>\n",
       "      <td>NaN</td>\n",
       "      <td>2.19970</td>\n",
       "    </tr>\n",
       "    <tr>\n",
       "      <th>180389</th>\n",
       "      <td>2004-02-28</td>\n",
       "      <td>02:21:16.59372</td>\n",
       "      <td>167</td>\n",
       "      <td>5.0</td>\n",
       "      <td>NaN</td>\n",
       "      <td>NaN</td>\n",
       "      <td>NaN</td>\n",
       "      <td>2.69964</td>\n",
       "    </tr>\n",
       "    <tr>\n",
       "      <th>180390</th>\n",
       "      <td>2004-02-28</td>\n",
       "      <td>03:42:46.678899</td>\n",
       "      <td>330</td>\n",
       "      <td>5.0</td>\n",
       "      <td>NaN</td>\n",
       "      <td>NaN</td>\n",
       "      <td>NaN</td>\n",
       "      <td>2.67532</td>\n",
       "    </tr>\n",
       "    <tr>\n",
       "      <th>180391</th>\n",
       "      <td>2004-02-28</td>\n",
       "      <td>05:20:16.549645</td>\n",
       "      <td>525</td>\n",
       "      <td>5.0</td>\n",
       "      <td>NaN</td>\n",
       "      <td>NaN</td>\n",
       "      <td>NaN</td>\n",
       "      <td>2.65143</td>\n",
       "    </tr>\n",
       "    <tr>\n",
       "      <th>180392</th>\n",
       "      <td>2004-02-28</td>\n",
       "      <td>09:32:47.471012</td>\n",
       "      <td>1030</td>\n",
       "      <td>5.0</td>\n",
       "      <td>NaN</td>\n",
       "      <td>NaN</td>\n",
       "      <td>NaN</td>\n",
       "      <td>2.65143</td>\n",
       "    </tr>\n",
       "    <tr>\n",
       "      <th>180393</th>\n",
       "      <td>2004-02-28</td>\n",
       "      <td>13:05:48.430632</td>\n",
       "      <td>1456</td>\n",
       "      <td>5.0</td>\n",
       "      <td>NaN</td>\n",
       "      <td>NaN</td>\n",
       "      <td>NaN</td>\n",
       "      <td>2.68742</td>\n",
       "    </tr>\n",
       "    <tr>\n",
       "      <th>180394</th>\n",
       "      <td>2004-02-28</td>\n",
       "      <td>13:19:17.080958</td>\n",
       "      <td>1483</td>\n",
       "      <td>5.0</td>\n",
       "      <td>NaN</td>\n",
       "      <td>NaN</td>\n",
       "      <td>NaN</td>\n",
       "      <td>2.68742</td>\n",
       "    </tr>\n",
       "    <tr>\n",
       "      <th>180395</th>\n",
       "      <td>2004-02-28</td>\n",
       "      <td>15:14:47.695172</td>\n",
       "      <td>1714</td>\n",
       "      <td>5.0</td>\n",
       "      <td>NaN</td>\n",
       "      <td>NaN</td>\n",
       "      <td>NaN</td>\n",
       "      <td>2.67532</td>\n",
       "    </tr>\n",
       "    <tr>\n",
       "      <th>180396</th>\n",
       "      <td>2004-02-28</td>\n",
       "      <td>16:30:49.511264</td>\n",
       "      <td>1866</td>\n",
       "      <td>5.0</td>\n",
       "      <td>NaN</td>\n",
       "      <td>NaN</td>\n",
       "      <td>NaN</td>\n",
       "      <td>2.66332</td>\n",
       "    </tr>\n",
       "    <tr>\n",
       "      <th>180397</th>\n",
       "      <td>2004-02-28</td>\n",
       "      <td>16:56:48.403599</td>\n",
       "      <td>1918</td>\n",
       "      <td>5.0</td>\n",
       "      <td>NaN</td>\n",
       "      <td>NaN</td>\n",
       "      <td>NaN</td>\n",
       "      <td>2.67532</td>\n",
       "    </tr>\n",
       "    <tr>\n",
       "      <th>180398</th>\n",
       "      <td>2004-02-28</td>\n",
       "      <td>21:05:18.472232</td>\n",
       "      <td>2415</td>\n",
       "      <td>5.0</td>\n",
       "      <td>NaN</td>\n",
       "      <td>NaN</td>\n",
       "      <td>NaN</td>\n",
       "      <td>2.62796</td>\n",
       "    </tr>\n",
       "    <tr>\n",
       "      <th>180399</th>\n",
       "      <td>2004-02-29</td>\n",
       "      <td>01:31:48.926183</td>\n",
       "      <td>2948</td>\n",
       "      <td>5.0</td>\n",
       "      <td>NaN</td>\n",
       "      <td>NaN</td>\n",
       "      <td>NaN</td>\n",
       "      <td>2.61639</td>\n",
       "    </tr>\n",
       "    <tr>\n",
       "      <th>180400</th>\n",
       "      <td>2004-02-29</td>\n",
       "      <td>04:49:19.362968</td>\n",
       "      <td>3343</td>\n",
       "      <td>5.0</td>\n",
       "      <td>NaN</td>\n",
       "      <td>NaN</td>\n",
       "      <td>NaN</td>\n",
       "      <td>2.58226</td>\n",
       "    </tr>\n",
       "    <tr>\n",
       "      <th>180401</th>\n",
       "      <td>2004-02-29</td>\n",
       "      <td>05:23:49.620586</td>\n",
       "      <td>3412</td>\n",
       "      <td>5.0</td>\n",
       "      <td>NaN</td>\n",
       "      <td>NaN</td>\n",
       "      <td>NaN</td>\n",
       "      <td>2.58226</td>\n",
       "    </tr>\n",
       "    <tr>\n",
       "      <th>180402</th>\n",
       "      <td>2004-02-29</td>\n",
       "      <td>06:16:18.95534</td>\n",
       "      <td>3517</td>\n",
       "      <td>5.0</td>\n",
       "      <td>NaN</td>\n",
       "      <td>NaN</td>\n",
       "      <td>NaN</td>\n",
       "      <td>2.58226</td>\n",
       "    </tr>\n",
       "    <tr>\n",
       "      <th>180403</th>\n",
       "      <td>2004-02-29</td>\n",
       "      <td>07:43:49.128505</td>\n",
       "      <td>3692</td>\n",
       "      <td>5.0</td>\n",
       "      <td>NaN</td>\n",
       "      <td>NaN</td>\n",
       "      <td>NaN</td>\n",
       "      <td>2.58226</td>\n",
       "    </tr>\n",
       "    <tr>\n",
       "      <th>180404</th>\n",
       "      <td>2004-02-29</td>\n",
       "      <td>14:21:54.319529</td>\n",
       "      <td>4488</td>\n",
       "      <td>5.0</td>\n",
       "      <td>NaN</td>\n",
       "      <td>NaN</td>\n",
       "      <td>NaN</td>\n",
       "      <td>2.58226</td>\n",
       "    </tr>\n",
       "    <tr>\n",
       "      <th>180405</th>\n",
       "      <td>2004-02-29</td>\n",
       "      <td>22:56:20.227764</td>\n",
       "      <td>5517</td>\n",
       "      <td>5.0</td>\n",
       "      <td>NaN</td>\n",
       "      <td>NaN</td>\n",
       "      <td>NaN</td>\n",
       "      <td>2.54901</td>\n",
       "    </tr>\n",
       "    <tr>\n",
       "      <th>180406</th>\n",
       "      <td>2004-02-29</td>\n",
       "      <td>23:48:28.435499</td>\n",
       "      <td>5621</td>\n",
       "      <td>5.0</td>\n",
       "      <td>NaN</td>\n",
       "      <td>NaN</td>\n",
       "      <td>NaN</td>\n",
       "      <td>2.53812</td>\n",
       "    </tr>\n",
       "    <tr>\n",
       "      <th>180407</th>\n",
       "      <td>2004-03-01</td>\n",
       "      <td>02:26:51.386431</td>\n",
       "      <td>5938</td>\n",
       "      <td>5.0</td>\n",
       "      <td>NaN</td>\n",
       "      <td>NaN</td>\n",
       "      <td>NaN</td>\n",
       "      <td>2.52732</td>\n",
       "    </tr>\n",
       "    <tr>\n",
       "      <th>180408</th>\n",
       "      <td>2004-03-01</td>\n",
       "      <td>03:26:55.959281</td>\n",
       "      <td>6058</td>\n",
       "      <td>5.0</td>\n",
       "      <td>NaN</td>\n",
       "      <td>NaN</td>\n",
       "      <td>NaN</td>\n",
       "      <td>2.52732</td>\n",
       "    </tr>\n",
       "    <tr>\n",
       "      <th>180409</th>\n",
       "      <td>2004-03-01</td>\n",
       "      <td>05:29:57.551549</td>\n",
       "      <td>6304</td>\n",
       "      <td>5.0</td>\n",
       "      <td>NaN</td>\n",
       "      <td>NaN</td>\n",
       "      <td>NaN</td>\n",
       "      <td>2.51661</td>\n",
       "    </tr>\n",
       "    <tr>\n",
       "      <th>180410</th>\n",
       "      <td>2004-03-01</td>\n",
       "      <td>06:58:55.659631</td>\n",
       "      <td>6482</td>\n",
       "      <td>5.0</td>\n",
       "      <td>NaN</td>\n",
       "      <td>NaN</td>\n",
       "      <td>NaN</td>\n",
       "      <td>2.50599</td>\n",
       "    </tr>\n",
       "    <tr>\n",
       "      <th>180411</th>\n",
       "      <td>2004-03-01</td>\n",
       "      <td>16:23:52.398752</td>\n",
       "      <td>7612</td>\n",
       "      <td>5.0</td>\n",
       "      <td>NaN</td>\n",
       "      <td>NaN</td>\n",
       "      <td>NaN</td>\n",
       "      <td>2.56000</td>\n",
       "    </tr>\n",
       "    <tr>\n",
       "      <th>180412</th>\n",
       "      <td>2004-03-01</td>\n",
       "      <td>17:25:26.000574</td>\n",
       "      <td>7735</td>\n",
       "      <td>5.0</td>\n",
       "      <td>NaN</td>\n",
       "      <td>NaN</td>\n",
       "      <td>NaN</td>\n",
       "      <td>2.56000</td>\n",
       "    </tr>\n",
       "    <tr>\n",
       "      <th>180413</th>\n",
       "      <td>2004-03-01</td>\n",
       "      <td>18:47:52.321694</td>\n",
       "      <td>7900</td>\n",
       "      <td>5.0</td>\n",
       "      <td>NaN</td>\n",
       "      <td>NaN</td>\n",
       "      <td>NaN</td>\n",
       "      <td>2.50599</td>\n",
       "    </tr>\n",
       "    <tr>\n",
       "      <th>180414</th>\n",
       "      <td>2004-03-02</td>\n",
       "      <td>07:08:23.380997</td>\n",
       "      <td>9381</td>\n",
       "      <td>5.0</td>\n",
       "      <td>NaN</td>\n",
       "      <td>NaN</td>\n",
       "      <td>NaN</td>\n",
       "      <td>2.41431</td>\n",
       "    </tr>\n",
       "    <tr>\n",
       "      <th>180415</th>\n",
       "      <td>2004-03-02</td>\n",
       "      <td>07:42:26.597713</td>\n",
       "      <td>9449</td>\n",
       "      <td>5.0</td>\n",
       "      <td>NaN</td>\n",
       "      <td>NaN</td>\n",
       "      <td>NaN</td>\n",
       "      <td>2.42416</td>\n",
       "    </tr>\n",
       "    <tr>\n",
       "      <th>180416</th>\n",
       "      <td>2004-03-02</td>\n",
       "      <td>11:52:43.274351</td>\n",
       "      <td>9949</td>\n",
       "      <td>5.0</td>\n",
       "      <td>NaN</td>\n",
       "      <td>NaN</td>\n",
       "      <td>NaN</td>\n",
       "      <td>2.42416</td>\n",
       "    </tr>\n",
       "    <tr>\n",
       "      <th>180417</th>\n",
       "      <td>2004-03-02</td>\n",
       "      <td>14:28:03.222866</td>\n",
       "      <td>10260</td>\n",
       "      <td>5.0</td>\n",
       "      <td>NaN</td>\n",
       "      <td>NaN</td>\n",
       "      <td>NaN</td>\n",
       "      <td>2.39484</td>\n",
       "    </tr>\n",
       "    <tr>\n",
       "      <th>...</th>\n",
       "      <td>...</td>\n",
       "      <td>...</td>\n",
       "      <td>...</td>\n",
       "      <td>...</td>\n",
       "      <td>...</td>\n",
       "      <td>...</td>\n",
       "      <td>...</td>\n",
       "      <td>...</td>\n",
       "    </tr>\n",
       "    <tr>\n",
       "      <th>2313652</th>\n",
       "      <td>2004-04-01</td>\n",
       "      <td>23:06:18.936991</td>\n",
       "      <td>61220</td>\n",
       "      <td>NaN</td>\n",
       "      <td>NaN</td>\n",
       "      <td>NaN</td>\n",
       "      <td>NaN</td>\n",
       "      <td>NaN</td>\n",
       "    </tr>\n",
       "    <tr>\n",
       "      <th>2313653</th>\n",
       "      <td>2004-04-01</td>\n",
       "      <td>23:17:53.33442</td>\n",
       "      <td>61241</td>\n",
       "      <td>NaN</td>\n",
       "      <td>NaN</td>\n",
       "      <td>NaN</td>\n",
       "      <td>NaN</td>\n",
       "      <td>NaN</td>\n",
       "    </tr>\n",
       "    <tr>\n",
       "      <th>2313654</th>\n",
       "      <td>2004-04-01</td>\n",
       "      <td>23:20:53.26068</td>\n",
       "      <td>61242</td>\n",
       "      <td>NaN</td>\n",
       "      <td>NaN</td>\n",
       "      <td>NaN</td>\n",
       "      <td>NaN</td>\n",
       "      <td>NaN</td>\n",
       "    </tr>\n",
       "    <tr>\n",
       "      <th>2313655</th>\n",
       "      <td>2004-04-01</td>\n",
       "      <td>23:23:53.046671</td>\n",
       "      <td>61243</td>\n",
       "      <td>NaN</td>\n",
       "      <td>NaN</td>\n",
       "      <td>NaN</td>\n",
       "      <td>NaN</td>\n",
       "      <td>NaN</td>\n",
       "    </tr>\n",
       "    <tr>\n",
       "      <th>2313656</th>\n",
       "      <td>2004-04-01</td>\n",
       "      <td>23:35:53.484033</td>\n",
       "      <td>61246</td>\n",
       "      <td>NaN</td>\n",
       "      <td>NaN</td>\n",
       "      <td>NaN</td>\n",
       "      <td>NaN</td>\n",
       "      <td>NaN</td>\n",
       "    </tr>\n",
       "    <tr>\n",
       "      <th>2313657</th>\n",
       "      <td>2004-04-01</td>\n",
       "      <td>23:38:51.026354</td>\n",
       "      <td>61247</td>\n",
       "      <td>NaN</td>\n",
       "      <td>NaN</td>\n",
       "      <td>NaN</td>\n",
       "      <td>NaN</td>\n",
       "      <td>NaN</td>\n",
       "    </tr>\n",
       "    <tr>\n",
       "      <th>2313658</th>\n",
       "      <td>2004-04-01</td>\n",
       "      <td>23:41:51.102528</td>\n",
       "      <td>61248</td>\n",
       "      <td>NaN</td>\n",
       "      <td>NaN</td>\n",
       "      <td>NaN</td>\n",
       "      <td>NaN</td>\n",
       "      <td>NaN</td>\n",
       "    </tr>\n",
       "    <tr>\n",
       "      <th>2313659</th>\n",
       "      <td>2004-04-01</td>\n",
       "      <td>23:44:51.351393</td>\n",
       "      <td>61249</td>\n",
       "      <td>NaN</td>\n",
       "      <td>NaN</td>\n",
       "      <td>NaN</td>\n",
       "      <td>NaN</td>\n",
       "      <td>NaN</td>\n",
       "    </tr>\n",
       "    <tr>\n",
       "      <th>2313660</th>\n",
       "      <td>2004-04-01</td>\n",
       "      <td>23:47:53.088203</td>\n",
       "      <td>61250</td>\n",
       "      <td>NaN</td>\n",
       "      <td>NaN</td>\n",
       "      <td>NaN</td>\n",
       "      <td>NaN</td>\n",
       "      <td>NaN</td>\n",
       "    </tr>\n",
       "    <tr>\n",
       "      <th>2313661</th>\n",
       "      <td>2004-04-01</td>\n",
       "      <td>23:56:55.955802</td>\n",
       "      <td>61252</td>\n",
       "      <td>NaN</td>\n",
       "      <td>NaN</td>\n",
       "      <td>NaN</td>\n",
       "      <td>NaN</td>\n",
       "      <td>NaN</td>\n",
       "    </tr>\n",
       "    <tr>\n",
       "      <th>2313662</th>\n",
       "      <td>2004-04-01</td>\n",
       "      <td>23:59:52.062248</td>\n",
       "      <td>61253</td>\n",
       "      <td>NaN</td>\n",
       "      <td>NaN</td>\n",
       "      <td>NaN</td>\n",
       "      <td>NaN</td>\n",
       "      <td>NaN</td>\n",
       "    </tr>\n",
       "    <tr>\n",
       "      <th>2313663</th>\n",
       "      <td>2004-04-02</td>\n",
       "      <td>00:02:53.403263</td>\n",
       "      <td>61254</td>\n",
       "      <td>NaN</td>\n",
       "      <td>NaN</td>\n",
       "      <td>NaN</td>\n",
       "      <td>NaN</td>\n",
       "      <td>NaN</td>\n",
       "    </tr>\n",
       "    <tr>\n",
       "      <th>2313664</th>\n",
       "      <td>2004-04-02</td>\n",
       "      <td>00:05:53.442814</td>\n",
       "      <td>61255</td>\n",
       "      <td>NaN</td>\n",
       "      <td>NaN</td>\n",
       "      <td>NaN</td>\n",
       "      <td>NaN</td>\n",
       "      <td>NaN</td>\n",
       "    </tr>\n",
       "    <tr>\n",
       "      <th>2313665</th>\n",
       "      <td>2004-04-02</td>\n",
       "      <td>00:11:53.478397</td>\n",
       "      <td>61257</td>\n",
       "      <td>NaN</td>\n",
       "      <td>NaN</td>\n",
       "      <td>NaN</td>\n",
       "      <td>NaN</td>\n",
       "      <td>NaN</td>\n",
       "    </tr>\n",
       "    <tr>\n",
       "      <th>2313666</th>\n",
       "      <td>2004-04-02</td>\n",
       "      <td>00:20:53.634899</td>\n",
       "      <td>61259</td>\n",
       "      <td>NaN</td>\n",
       "      <td>NaN</td>\n",
       "      <td>NaN</td>\n",
       "      <td>NaN</td>\n",
       "      <td>NaN</td>\n",
       "    </tr>\n",
       "    <tr>\n",
       "      <th>2313667</th>\n",
       "      <td>2004-04-02</td>\n",
       "      <td>00:29:53.263446</td>\n",
       "      <td>61261</td>\n",
       "      <td>NaN</td>\n",
       "      <td>NaN</td>\n",
       "      <td>NaN</td>\n",
       "      <td>NaN</td>\n",
       "      <td>NaN</td>\n",
       "    </tr>\n",
       "    <tr>\n",
       "      <th>2313668</th>\n",
       "      <td>2004-04-02</td>\n",
       "      <td>00:38:53.781796</td>\n",
       "      <td>61263</td>\n",
       "      <td>NaN</td>\n",
       "      <td>NaN</td>\n",
       "      <td>NaN</td>\n",
       "      <td>NaN</td>\n",
       "      <td>NaN</td>\n",
       "    </tr>\n",
       "    <tr>\n",
       "      <th>2313669</th>\n",
       "      <td>2004-04-02</td>\n",
       "      <td>00:50:52.464265</td>\n",
       "      <td>61266</td>\n",
       "      <td>NaN</td>\n",
       "      <td>NaN</td>\n",
       "      <td>NaN</td>\n",
       "      <td>NaN</td>\n",
       "      <td>NaN</td>\n",
       "    </tr>\n",
       "    <tr>\n",
       "      <th>2313670</th>\n",
       "      <td>2004-04-02</td>\n",
       "      <td>00:53:52.418969</td>\n",
       "      <td>61267</td>\n",
       "      <td>NaN</td>\n",
       "      <td>NaN</td>\n",
       "      <td>NaN</td>\n",
       "      <td>NaN</td>\n",
       "      <td>NaN</td>\n",
       "    </tr>\n",
       "    <tr>\n",
       "      <th>2313671</th>\n",
       "      <td>2004-04-02</td>\n",
       "      <td>00:56:53.359735</td>\n",
       "      <td>61268</td>\n",
       "      <td>NaN</td>\n",
       "      <td>NaN</td>\n",
       "      <td>NaN</td>\n",
       "      <td>NaN</td>\n",
       "      <td>NaN</td>\n",
       "    </tr>\n",
       "    <tr>\n",
       "      <th>2313672</th>\n",
       "      <td>2004-04-02</td>\n",
       "      <td>00:59:53.886525</td>\n",
       "      <td>61269</td>\n",
       "      <td>NaN</td>\n",
       "      <td>NaN</td>\n",
       "      <td>NaN</td>\n",
       "      <td>NaN</td>\n",
       "      <td>NaN</td>\n",
       "    </tr>\n",
       "    <tr>\n",
       "      <th>2313673</th>\n",
       "      <td>2004-04-02</td>\n",
       "      <td>01:02:52.43893</td>\n",
       "      <td>61270</td>\n",
       "      <td>NaN</td>\n",
       "      <td>NaN</td>\n",
       "      <td>NaN</td>\n",
       "      <td>NaN</td>\n",
       "      <td>NaN</td>\n",
       "    </tr>\n",
       "    <tr>\n",
       "      <th>2313674</th>\n",
       "      <td>2004-04-02</td>\n",
       "      <td>01:05:53.55726</td>\n",
       "      <td>61271</td>\n",
       "      <td>NaN</td>\n",
       "      <td>NaN</td>\n",
       "      <td>NaN</td>\n",
       "      <td>NaN</td>\n",
       "      <td>NaN</td>\n",
       "    </tr>\n",
       "    <tr>\n",
       "      <th>2313675</th>\n",
       "      <td>2004-04-02</td>\n",
       "      <td>01:08:54.053265</td>\n",
       "      <td>61272</td>\n",
       "      <td>NaN</td>\n",
       "      <td>NaN</td>\n",
       "      <td>NaN</td>\n",
       "      <td>NaN</td>\n",
       "      <td>NaN</td>\n",
       "    </tr>\n",
       "    <tr>\n",
       "      <th>2313676</th>\n",
       "      <td>2004-04-02</td>\n",
       "      <td>01:11:53.607384</td>\n",
       "      <td>61273</td>\n",
       "      <td>NaN</td>\n",
       "      <td>NaN</td>\n",
       "      <td>NaN</td>\n",
       "      <td>NaN</td>\n",
       "      <td>NaN</td>\n",
       "    </tr>\n",
       "    <tr>\n",
       "      <th>2313677</th>\n",
       "      <td>2004-04-02</td>\n",
       "      <td>01:14:54.164318</td>\n",
       "      <td>61274</td>\n",
       "      <td>NaN</td>\n",
       "      <td>NaN</td>\n",
       "      <td>NaN</td>\n",
       "      <td>NaN</td>\n",
       "      <td>NaN</td>\n",
       "    </tr>\n",
       "    <tr>\n",
       "      <th>2313678</th>\n",
       "      <td>2004-04-02</td>\n",
       "      <td>01:17:53.670524</td>\n",
       "      <td>61275</td>\n",
       "      <td>NaN</td>\n",
       "      <td>NaN</td>\n",
       "      <td>NaN</td>\n",
       "      <td>NaN</td>\n",
       "      <td>NaN</td>\n",
       "    </tr>\n",
       "    <tr>\n",
       "      <th>2313679</th>\n",
       "      <td>2004-04-02</td>\n",
       "      <td>01:20:52.807972</td>\n",
       "      <td>61276</td>\n",
       "      <td>NaN</td>\n",
       "      <td>NaN</td>\n",
       "      <td>NaN</td>\n",
       "      <td>NaN</td>\n",
       "      <td>NaN</td>\n",
       "    </tr>\n",
       "    <tr>\n",
       "      <th>2313680</th>\n",
       "      <td>2004-04-02</td>\n",
       "      <td>01:26:53.950342</td>\n",
       "      <td>61278</td>\n",
       "      <td>NaN</td>\n",
       "      <td>NaN</td>\n",
       "      <td>NaN</td>\n",
       "      <td>NaN</td>\n",
       "      <td>NaN</td>\n",
       "    </tr>\n",
       "    <tr>\n",
       "      <th>2313681</th>\n",
       "      <td>2004-04-02</td>\n",
       "      <td>01:35:53.897412</td>\n",
       "      <td>61280</td>\n",
       "      <td>NaN</td>\n",
       "      <td>NaN</td>\n",
       "      <td>NaN</td>\n",
       "      <td>NaN</td>\n",
       "      <td>NaN</td>\n",
       "    </tr>\n",
       "  </tbody>\n",
       "</table>\n",
       "<p>93879 rows × 8 columns</p>\n",
       "</div>"
      ],
      "text/plain": [
       "        date:yyyy-mm-dd time:hh:mm:ss.xxx  epoch  moteid  temperature  \\\n",
       "129122       2004-03-30   08:11:56.681052  53671     3.0          NaN   \n",
       "180389       2004-02-28    02:21:16.59372    167     5.0          NaN   \n",
       "180390       2004-02-28   03:42:46.678899    330     5.0          NaN   \n",
       "180391       2004-02-28   05:20:16.549645    525     5.0          NaN   \n",
       "180392       2004-02-28   09:32:47.471012   1030     5.0          NaN   \n",
       "180393       2004-02-28   13:05:48.430632   1456     5.0          NaN   \n",
       "180394       2004-02-28   13:19:17.080958   1483     5.0          NaN   \n",
       "180395       2004-02-28   15:14:47.695172   1714     5.0          NaN   \n",
       "180396       2004-02-28   16:30:49.511264   1866     5.0          NaN   \n",
       "180397       2004-02-28   16:56:48.403599   1918     5.0          NaN   \n",
       "180398       2004-02-28   21:05:18.472232   2415     5.0          NaN   \n",
       "180399       2004-02-29   01:31:48.926183   2948     5.0          NaN   \n",
       "180400       2004-02-29   04:49:19.362968   3343     5.0          NaN   \n",
       "180401       2004-02-29   05:23:49.620586   3412     5.0          NaN   \n",
       "180402       2004-02-29    06:16:18.95534   3517     5.0          NaN   \n",
       "180403       2004-02-29   07:43:49.128505   3692     5.0          NaN   \n",
       "180404       2004-02-29   14:21:54.319529   4488     5.0          NaN   \n",
       "180405       2004-02-29   22:56:20.227764   5517     5.0          NaN   \n",
       "180406       2004-02-29   23:48:28.435499   5621     5.0          NaN   \n",
       "180407       2004-03-01   02:26:51.386431   5938     5.0          NaN   \n",
       "180408       2004-03-01   03:26:55.959281   6058     5.0          NaN   \n",
       "180409       2004-03-01   05:29:57.551549   6304     5.0          NaN   \n",
       "180410       2004-03-01   06:58:55.659631   6482     5.0          NaN   \n",
       "180411       2004-03-01   16:23:52.398752   7612     5.0          NaN   \n",
       "180412       2004-03-01   17:25:26.000574   7735     5.0          NaN   \n",
       "180413       2004-03-01   18:47:52.321694   7900     5.0          NaN   \n",
       "180414       2004-03-02   07:08:23.380997   9381     5.0          NaN   \n",
       "180415       2004-03-02   07:42:26.597713   9449     5.0          NaN   \n",
       "180416       2004-03-02   11:52:43.274351   9949     5.0          NaN   \n",
       "180417       2004-03-02   14:28:03.222866  10260     5.0          NaN   \n",
       "...                 ...               ...    ...     ...          ...   \n",
       "2313652      2004-04-01   23:06:18.936991  61220     NaN          NaN   \n",
       "2313653      2004-04-01    23:17:53.33442  61241     NaN          NaN   \n",
       "2313654      2004-04-01    23:20:53.26068  61242     NaN          NaN   \n",
       "2313655      2004-04-01   23:23:53.046671  61243     NaN          NaN   \n",
       "2313656      2004-04-01   23:35:53.484033  61246     NaN          NaN   \n",
       "2313657      2004-04-01   23:38:51.026354  61247     NaN          NaN   \n",
       "2313658      2004-04-01   23:41:51.102528  61248     NaN          NaN   \n",
       "2313659      2004-04-01   23:44:51.351393  61249     NaN          NaN   \n",
       "2313660      2004-04-01   23:47:53.088203  61250     NaN          NaN   \n",
       "2313661      2004-04-01   23:56:55.955802  61252     NaN          NaN   \n",
       "2313662      2004-04-01   23:59:52.062248  61253     NaN          NaN   \n",
       "2313663      2004-04-02   00:02:53.403263  61254     NaN          NaN   \n",
       "2313664      2004-04-02   00:05:53.442814  61255     NaN          NaN   \n",
       "2313665      2004-04-02   00:11:53.478397  61257     NaN          NaN   \n",
       "2313666      2004-04-02   00:20:53.634899  61259     NaN          NaN   \n",
       "2313667      2004-04-02   00:29:53.263446  61261     NaN          NaN   \n",
       "2313668      2004-04-02   00:38:53.781796  61263     NaN          NaN   \n",
       "2313669      2004-04-02   00:50:52.464265  61266     NaN          NaN   \n",
       "2313670      2004-04-02   00:53:52.418969  61267     NaN          NaN   \n",
       "2313671      2004-04-02   00:56:53.359735  61268     NaN          NaN   \n",
       "2313672      2004-04-02   00:59:53.886525  61269     NaN          NaN   \n",
       "2313673      2004-04-02    01:02:52.43893  61270     NaN          NaN   \n",
       "2313674      2004-04-02    01:05:53.55726  61271     NaN          NaN   \n",
       "2313675      2004-04-02   01:08:54.053265  61272     NaN          NaN   \n",
       "2313676      2004-04-02   01:11:53.607384  61273     NaN          NaN   \n",
       "2313677      2004-04-02   01:14:54.164318  61274     NaN          NaN   \n",
       "2313678      2004-04-02   01:17:53.670524  61275     NaN          NaN   \n",
       "2313679      2004-04-02   01:20:52.807972  61276     NaN          NaN   \n",
       "2313680      2004-04-02   01:26:53.950342  61278     NaN          NaN   \n",
       "2313681      2004-04-02   01:35:53.897412  61280     NaN          NaN   \n",
       "\n",
       "         humidity  light  voltage  \n",
       "129122        NaN    NaN  2.19970  \n",
       "180389        NaN    NaN  2.69964  \n",
       "180390        NaN    NaN  2.67532  \n",
       "180391        NaN    NaN  2.65143  \n",
       "180392        NaN    NaN  2.65143  \n",
       "180393        NaN    NaN  2.68742  \n",
       "180394        NaN    NaN  2.68742  \n",
       "180395        NaN    NaN  2.67532  \n",
       "180396        NaN    NaN  2.66332  \n",
       "180397        NaN    NaN  2.67532  \n",
       "180398        NaN    NaN  2.62796  \n",
       "180399        NaN    NaN  2.61639  \n",
       "180400        NaN    NaN  2.58226  \n",
       "180401        NaN    NaN  2.58226  \n",
       "180402        NaN    NaN  2.58226  \n",
       "180403        NaN    NaN  2.58226  \n",
       "180404        NaN    NaN  2.58226  \n",
       "180405        NaN    NaN  2.54901  \n",
       "180406        NaN    NaN  2.53812  \n",
       "180407        NaN    NaN  2.52732  \n",
       "180408        NaN    NaN  2.52732  \n",
       "180409        NaN    NaN  2.51661  \n",
       "180410        NaN    NaN  2.50599  \n",
       "180411        NaN    NaN  2.56000  \n",
       "180412        NaN    NaN  2.56000  \n",
       "180413        NaN    NaN  2.50599  \n",
       "180414        NaN    NaN  2.41431  \n",
       "180415        NaN    NaN  2.42416  \n",
       "180416        NaN    NaN  2.42416  \n",
       "180417        NaN    NaN  2.39484  \n",
       "...           ...    ...      ...  \n",
       "2313652       NaN    NaN      NaN  \n",
       "2313653       NaN    NaN      NaN  \n",
       "2313654       NaN    NaN      NaN  \n",
       "2313655       NaN    NaN      NaN  \n",
       "2313656       NaN    NaN      NaN  \n",
       "2313657       NaN    NaN      NaN  \n",
       "2313658       NaN    NaN      NaN  \n",
       "2313659       NaN    NaN      NaN  \n",
       "2313660       NaN    NaN      NaN  \n",
       "2313661       NaN    NaN      NaN  \n",
       "2313662       NaN    NaN      NaN  \n",
       "2313663       NaN    NaN      NaN  \n",
       "2313664       NaN    NaN      NaN  \n",
       "2313665       NaN    NaN      NaN  \n",
       "2313666       NaN    NaN      NaN  \n",
       "2313667       NaN    NaN      NaN  \n",
       "2313668       NaN    NaN      NaN  \n",
       "2313669       NaN    NaN      NaN  \n",
       "2313670       NaN    NaN      NaN  \n",
       "2313671       NaN    NaN      NaN  \n",
       "2313672       NaN    NaN      NaN  \n",
       "2313673       NaN    NaN      NaN  \n",
       "2313674       NaN    NaN      NaN  \n",
       "2313675       NaN    NaN      NaN  \n",
       "2313676       NaN    NaN      NaN  \n",
       "2313677       NaN    NaN      NaN  \n",
       "2313678       NaN    NaN      NaN  \n",
       "2313679       NaN    NaN      NaN  \n",
       "2313680       NaN    NaN      NaN  \n",
       "2313681       NaN    NaN      NaN  \n",
       "\n",
       "[93879 rows x 8 columns]"
      ]
     },
     "execution_count": 44,
     "metadata": {},
     "output_type": "execute_result"
    }
   ],
   "source": [
    "#nanDf"
   ]
  },
  {
   "cell_type": "markdown",
   "metadata": {},
   "source": [
    "I observe that several rows have temp, humidity and light missing. Time stamp is not missing in any row. "
   ]
  },
  {
   "cell_type": "markdown",
   "metadata": {},
   "source": [
    "<b>Strategy: I begin by discarding rows with missing mote ids. It is possible, I think to predict the moot id, but I will focus on temp, humid and light. To predict missing rows, I will be using taking advantage of the fact that after discarding rows without moteid, all the rows have timestamp, x and y coordinates. \n",
    "\n",
    "I plan to find k_NN of each row that has atleast one missing value, and replace the missing field with the average of values in the corresponding columns of k-NN </b>"
   ]
  },
  {
   "cell_type": "code",
   "execution_count": 69,
   "metadata": {
    "collapsed": true
   },
   "outputs": [],
   "source": [
    "coordinDf[\"moteid\"] = coordinDf[\"moteid\"].astype(float)"
   ]
  },
  {
   "cell_type": "code",
   "execution_count": 70,
   "metadata": {
    "scrolled": true
   },
   "outputs": [
    {
     "data": {
      "text/html": [
       "<div>\n",
       "<style>\n",
       "    .dataframe thead tr:only-child th {\n",
       "        text-align: right;\n",
       "    }\n",
       "\n",
       "    .dataframe thead th {\n",
       "        text-align: left;\n",
       "    }\n",
       "\n",
       "    .dataframe tbody tr th {\n",
       "        vertical-align: top;\n",
       "    }\n",
       "</style>\n",
       "<table border=\"1\" class=\"dataframe\">\n",
       "  <thead>\n",
       "    <tr style=\"text-align: right;\">\n",
       "      <th></th>\n",
       "      <th>moteid</th>\n",
       "      <th>x</th>\n",
       "      <th>y</th>\n",
       "    </tr>\n",
       "  </thead>\n",
       "  <tbody>\n",
       "    <tr>\n",
       "      <th>0</th>\n",
       "      <td>1.0</td>\n",
       "      <td>21.5</td>\n",
       "      <td>23</td>\n",
       "    </tr>\n",
       "    <tr>\n",
       "      <th>1</th>\n",
       "      <td>2.0</td>\n",
       "      <td>24.5</td>\n",
       "      <td>20</td>\n",
       "    </tr>\n",
       "    <tr>\n",
       "      <th>2</th>\n",
       "      <td>3.0</td>\n",
       "      <td>19.5</td>\n",
       "      <td>19</td>\n",
       "    </tr>\n",
       "    <tr>\n",
       "      <th>3</th>\n",
       "      <td>4.0</td>\n",
       "      <td>22.5</td>\n",
       "      <td>15</td>\n",
       "    </tr>\n",
       "    <tr>\n",
       "      <th>4</th>\n",
       "      <td>5.0</td>\n",
       "      <td>24.5</td>\n",
       "      <td>12</td>\n",
       "    </tr>\n",
       "  </tbody>\n",
       "</table>\n",
       "</div>"
      ],
      "text/plain": [
       "   moteid     x   y\n",
       "0     1.0  21.5  23\n",
       "1     2.0  24.5  20\n",
       "2     3.0  19.5  19\n",
       "3     4.0  22.5  15\n",
       "4     5.0  24.5  12"
      ]
     },
     "execution_count": 70,
     "metadata": {},
     "output_type": "execute_result"
    }
   ],
   "source": [
    "coordinDf.head(5)"
   ]
  },
  {
   "cell_type": "markdown",
   "metadata": {},
   "source": [
    "Merging the location DF and the data DF"
   ]
  },
  {
   "cell_type": "code",
   "execution_count": 72,
   "metadata": {
    "collapsed": true
   },
   "outputs": [],
   "source": [
    "dataDf= pd.merge(dataDf,coordinDf,on=['moteid'])"
   ]
  },
  {
   "cell_type": "code",
   "execution_count": 74,
   "metadata": {},
   "outputs": [
    {
     "data": {
      "text/html": [
       "<div>\n",
       "<style>\n",
       "    .dataframe thead tr:only-child th {\n",
       "        text-align: right;\n",
       "    }\n",
       "\n",
       "    .dataframe thead th {\n",
       "        text-align: left;\n",
       "    }\n",
       "\n",
       "    .dataframe tbody tr th {\n",
       "        vertical-align: top;\n",
       "    }\n",
       "</style>\n",
       "<table border=\"1\" class=\"dataframe\">\n",
       "  <thead>\n",
       "    <tr style=\"text-align: right;\">\n",
       "      <th></th>\n",
       "      <th>date:yyyy-mm-dd</th>\n",
       "      <th>time:hh:mm:ss.xxx</th>\n",
       "      <th>epoch</th>\n",
       "      <th>moteid</th>\n",
       "      <th>temperature</th>\n",
       "      <th>humidity</th>\n",
       "      <th>light</th>\n",
       "      <th>voltage</th>\n",
       "      <th>x</th>\n",
       "      <th>y</th>\n",
       "    </tr>\n",
       "  </thead>\n",
       "  <tbody>\n",
       "    <tr>\n",
       "      <th>0</th>\n",
       "      <td>2004-03-31</td>\n",
       "      <td>03:38:15.757551</td>\n",
       "      <td>2</td>\n",
       "      <td>1.0</td>\n",
       "      <td>122.1530</td>\n",
       "      <td>-3.91901</td>\n",
       "      <td>11.04</td>\n",
       "      <td>2.03397</td>\n",
       "      <td>21.5</td>\n",
       "      <td>23</td>\n",
       "    </tr>\n",
       "    <tr>\n",
       "      <th>1</th>\n",
       "      <td>2004-02-28</td>\n",
       "      <td>00:59:16.02785</td>\n",
       "      <td>3</td>\n",
       "      <td>1.0</td>\n",
       "      <td>19.9884</td>\n",
       "      <td>37.09330</td>\n",
       "      <td>45.08</td>\n",
       "      <td>2.69964</td>\n",
       "      <td>21.5</td>\n",
       "      <td>23</td>\n",
       "    </tr>\n",
       "    <tr>\n",
       "      <th>2</th>\n",
       "      <td>2004-02-28</td>\n",
       "      <td>01:03:16.33393</td>\n",
       "      <td>11</td>\n",
       "      <td>1.0</td>\n",
       "      <td>19.3024</td>\n",
       "      <td>38.46290</td>\n",
       "      <td>45.08</td>\n",
       "      <td>2.68742</td>\n",
       "      <td>21.5</td>\n",
       "      <td>23</td>\n",
       "    </tr>\n",
       "    <tr>\n",
       "      <th>3</th>\n",
       "      <td>2004-02-28</td>\n",
       "      <td>01:06:16.013453</td>\n",
       "      <td>17</td>\n",
       "      <td>1.0</td>\n",
       "      <td>19.1652</td>\n",
       "      <td>38.80390</td>\n",
       "      <td>45.08</td>\n",
       "      <td>2.68742</td>\n",
       "      <td>21.5</td>\n",
       "      <td>23</td>\n",
       "    </tr>\n",
       "    <tr>\n",
       "      <th>4</th>\n",
       "      <td>2004-02-28</td>\n",
       "      <td>01:06:46.778088</td>\n",
       "      <td>18</td>\n",
       "      <td>1.0</td>\n",
       "      <td>19.1750</td>\n",
       "      <td>38.83790</td>\n",
       "      <td>45.08</td>\n",
       "      <td>2.69964</td>\n",
       "      <td>21.5</td>\n",
       "      <td>23</td>\n",
       "    </tr>\n",
       "  </tbody>\n",
       "</table>\n",
       "</div>"
      ],
      "text/plain": [
       "  date:yyyy-mm-dd time:hh:mm:ss.xxx  epoch  moteid  temperature  humidity  \\\n",
       "0      2004-03-31   03:38:15.757551      2     1.0     122.1530  -3.91901   \n",
       "1      2004-02-28    00:59:16.02785      3     1.0      19.9884  37.09330   \n",
       "2      2004-02-28    01:03:16.33393     11     1.0      19.3024  38.46290   \n",
       "3      2004-02-28   01:06:16.013453     17     1.0      19.1652  38.80390   \n",
       "4      2004-02-28   01:06:46.778088     18     1.0      19.1750  38.83790   \n",
       "\n",
       "   light  voltage     x   y  \n",
       "0  11.04  2.03397  21.5  23  \n",
       "1  45.08  2.69964  21.5  23  \n",
       "2  45.08  2.68742  21.5  23  \n",
       "3  45.08  2.68742  21.5  23  \n",
       "4  45.08  2.69964  21.5  23  "
      ]
     },
     "execution_count": 74,
     "metadata": {},
     "output_type": "execute_result"
    }
   ],
   "source": [
    "dataDf.head(5)"
   ]
  },
  {
   "cell_type": "markdown",
   "metadata": {},
   "source": [
    "Lets begin by normalizing values. I am gonna treat each variable to have equal weightage. That means, I will have to convert time and date to an integer and then normalize them too. I will be discarding epoch from dataDf. "
   ]
  },
  {
   "cell_type": "code",
   "execution_count": 111,
   "metadata": {
    "collapsed": true,
    "scrolled": true
   },
   "outputs": [],
   "source": [
    "#Converting to appropriate datatypes\n",
    "dataDf['date:yyyy-mm-dd']=pd.to_datetime(dataDf['date:yyyy-mm-dd'])\n",
    "\n",
    "dataDf['time:hh:mm:ss.xxx'] = pd.to_datetime(dataDf['time:hh:mm:ss.xxx'])\n",
    "dataDf['time:hh:mm:ss.xxx']= [time.time() for time in dataDf['time:hh:mm:ss.xxx']]"
   ]
  },
  {
   "cell_type": "code",
   "execution_count": 208,
   "metadata": {
    "collapsed": true
   },
   "outputs": [],
   "source": [
    "normDf=pd.DataFrame()"
   ]
  },
  {
   "cell_type": "code",
   "execution_count": 243,
   "metadata": {
    "collapsed": true
   },
   "outputs": [],
   "source": [
    "from datetime import datetime, date, time, timedelta\n",
    "def timeToSec(timeobj):\n",
    "    t = datetime.combine(date.min, timeobj) - datetime.min\n",
    "    return(t.total_seconds())"
   ]
  },
  {
   "cell_type": "code",
   "execution_count": 245,
   "metadata": {},
   "outputs": [
    {
     "name": "stderr",
     "output_type": "stream",
     "text": [
      "/home/suryattheja/anaconda3/lib/python3.6/site-packages/sklearn/utils/validation.py:475: DataConversionWarning: Data with input dtype datetime64[ns] was converted to float64 by MinMaxScaler.\n",
      "  warnings.warn(msg, DataConversionWarning)\n"
     ]
    }
   ],
   "source": [
    "#Normalizing date\n",
    "series =dataDf['date:yyyy-mm-dd']\n",
    "values = series.values\n",
    "values = values.reshape((len(values), 1))\n",
    "scaler = MinMaxScaler(feature_range=(0, 1))\n",
    "scaler = scaler.fit(values)\n",
    "normalized = [i[0] for i in scaler.transform(values)]\n",
    "normDf['date']=normalized\n",
    "\n",
    "\n",
    "#Normalizaing time\n",
    "series =dataDf['time:hh:mm:ss.xxx']\n",
    "values = [[timeToSec(i)] for i in series.values]\n",
    "scaler = MinMaxScaler(feature_range=(0, 1))\n",
    "scaler = scaler.fit(values)\n",
    "normalized = [i[0] for i in scaler.transform(values)]\n",
    "normDf['time']=normalized\n",
    "\n",
    "\n"
   ]
  },
  {
   "cell_type": "code",
   "execution_count": 256,
   "metadata": {
    "collapsed": true
   },
   "outputs": [],
   "source": [
    "for col in ['temperature','humidity','light']:\n",
    "    series =dataDf[col]\n",
    "    values=list(series.values)\n",
    "    maxim=max(values)\n",
    "    minim=min(values)\n",
    "    normalized=[]\n",
    "    for i in values:\n",
    "        if(np.isnan(i)):\n",
    "            normalized.append(np.NaN)\n",
    "        else:\n",
    "            normalized.append((maxim-i)/(maxim-minim))\n",
    "    normDf[col]=normalized"
   ]
  },
  {
   "cell_type": "markdown",
   "metadata": {},
   "source": [
    "<b>Finally, we have the normalized data ready</b>"
   ]
  },
  {
   "cell_type": "code",
   "execution_count": 315,
   "metadata": {
    "collapsed": true
   },
   "outputs": [],
   "source": [
    "normNonan=normDf.dropna(axis=0, how='any')"
   ]
  },
  {
   "cell_type": "markdown",
   "metadata": {},
   "source": [
    "*******************************************************************"
   ]
  },
  {
   "cell_type": "markdown",
   "metadata": {},
   "source": [
    "At this point, I have NormDF, a DF with normalized values and normNoNan, normalized df with nan values dropped."
   ]
  },
  {
   "cell_type": "markdown",
   "metadata": {},
   "source": [
    "<h2>Implementing K -NN</h2>"
   ]
  },
  {
   "cell_type": "markdown",
   "metadata": {},
   "source": [
    "Strategy: For each row with NaNs in them, pass the available values to the below method. Eg, if a row has date, time and temp. and the other parameters are missing, pass the available values from the row to the getKNN function. \n",
    "This method searches for nearest neighbors in the df - normNoNan and returns a fully populated row with the closest match. The thus obtained values may then replace the NaN s in the input row."
   ]
  },
  {
   "cell_type": "code",
   "execution_count": 399,
   "metadata": {
    "collapsed": true
   },
   "outputs": [],
   "source": [
    "def getKNN(date=-1,time=-1,temperature=-1,humidity=-1,light=-1,k=5):\n",
    "    searchCols=[]\n",
    "    searchTerm=[]\n",
    "    if(date>0):\n",
    "        searchCols.append('date')    \n",
    "        searchTerm.append(date)\n",
    "    if(time)>0:\n",
    "        searchCols.append('time')\n",
    "        searchTerm.append(time)\n",
    "    if(temperature)>0:\n",
    "        searchCols.append('temperature')\n",
    "        searchTerm.append(temperature)\n",
    "    if(humidity)>0:\n",
    "        searchCols.append('humidity')\n",
    "        searchTerm.append(humidity)\n",
    "    if(light)>0:\n",
    "        searchCols.append('light')\n",
    "        searchTerm.append(light)\n",
    "    searchMat=normNonan[searchCols].as_matrix()\n",
    "    \n",
    "    distances=[]\n",
    "    \n",
    "    for row in range(searchMat.shape[0]):\n",
    "        distances.append((row,dist.euclidean(searchTerm,searchMat[row,:])))\n",
    "    \n",
    "    distances=sorted(distances,key=lambda x:x[1])\n",
    "    \n",
    "    return(distances[:k])"
   ]
  },
  {
   "cell_type": "markdown",
   "metadata": {},
   "source": [
    "Test: Lets take the first row[Row 0] and pretend to be not having values for temperature and light. We hence pass date, time and humidity to the getKNN function with k=1. It searches for the closes match and returns the row number that is the closest match to the available values and hence the best candidate to replace the Nans."
   ]
  },
  {
   "cell_type": "code",
   "execution_count": 257,
   "metadata": {},
   "outputs": [
    {
     "data": {
      "text/html": [
       "<div>\n",
       "<style>\n",
       "    .dataframe thead tr:only-child th {\n",
       "        text-align: right;\n",
       "    }\n",
       "\n",
       "    .dataframe thead th {\n",
       "        text-align: left;\n",
       "    }\n",
       "\n",
       "    .dataframe tbody tr th {\n",
       "        vertical-align: top;\n",
       "    }\n",
       "</style>\n",
       "<table border=\"1\" class=\"dataframe\">\n",
       "  <thead>\n",
       "    <tr style=\"text-align: right;\">\n",
       "      <th></th>\n",
       "      <th>date</th>\n",
       "      <th>time</th>\n",
       "      <th>temperature</th>\n",
       "      <th>humidity</th>\n",
       "      <th>light</th>\n",
       "    </tr>\n",
       "  </thead>\n",
       "  <tbody>\n",
       "    <tr>\n",
       "      <th>0</th>\n",
       "      <td>0.914286</td>\n",
       "      <td>0.151571</td>\n",
       "      <td>0.621309</td>\n",
       "      <td>0.015507</td>\n",
       "      <td>0.994024</td>\n",
       "    </tr>\n",
       "    <tr>\n",
       "      <th>1</th>\n",
       "      <td>0.000000</td>\n",
       "      <td>0.041157</td>\n",
       "      <td>0.862281</td>\n",
       "      <td>0.011010</td>\n",
       "      <td>0.975598</td>\n",
       "    </tr>\n",
       "    <tr>\n",
       "      <th>2</th>\n",
       "      <td>0.000000</td>\n",
       "      <td>0.043939</td>\n",
       "      <td>0.863899</td>\n",
       "      <td>0.010860</td>\n",
       "      <td>0.975598</td>\n",
       "    </tr>\n",
       "    <tr>\n",
       "      <th>3</th>\n",
       "      <td>0.000000</td>\n",
       "      <td>0.046018</td>\n",
       "      <td>0.864223</td>\n",
       "      <td>0.010822</td>\n",
       "      <td>0.975598</td>\n",
       "    </tr>\n",
       "  </tbody>\n",
       "</table>\n",
       "</div>"
      ],
      "text/plain": [
       "       date      time  temperature  humidity     light\n",
       "0  0.914286  0.151571     0.621309  0.015507  0.994024\n",
       "1  0.000000  0.041157     0.862281  0.011010  0.975598\n",
       "2  0.000000  0.043939     0.863899  0.010860  0.975598\n",
       "3  0.000000  0.046018     0.864223  0.010822  0.975598"
      ]
     },
     "execution_count": 257,
     "metadata": {},
     "output_type": "execute_result"
    }
   ],
   "source": [
    "normDf.head(4)"
   ]
  },
  {
   "cell_type": "markdown",
   "metadata": {},
   "source": [
    "Not surprisingly, the output says that the closest match is the first row itself!"
   ]
  },
  {
   "cell_type": "code",
   "execution_count": 398,
   "metadata": {},
   "outputs": [
    {
     "data": {
      "text/plain": [
       "(0, 4.3402287182382287e-07)"
      ]
     },
     "execution_count": 398,
     "metadata": {},
     "output_type": "execute_result"
    }
   ],
   "source": [
    "getKNN(date=0.914286,time=0.151571,humidity=0.621309)"
   ]
  },
  {
   "cell_type": "markdown",
   "metadata": {},
   "source": [
    "The KNN algorithm could be written in a much better way using Kd trees. With the limited time and library support available to handle NaNs, I stop here. "
   ]
  }
 ],
 "metadata": {
  "kernelspec": {
   "display_name": "Python 3",
   "language": "python",
   "name": "python3"
  },
  "language_info": {
   "codemirror_mode": {
    "name": "ipython",
    "version": 3
   },
   "file_extension": ".py",
   "mimetype": "text/x-python",
   "name": "python",
   "nbconvert_exporter": "python",
   "pygments_lexer": "ipython3",
   "version": "3.6.3"
  }
 },
 "nbformat": 4,
 "nbformat_minor": 2
}
